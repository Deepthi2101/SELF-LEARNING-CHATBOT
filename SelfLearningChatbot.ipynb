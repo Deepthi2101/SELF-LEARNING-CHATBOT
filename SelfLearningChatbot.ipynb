{
  "nbformat": 4,
  "nbformat_minor": 0,
  "metadata": {
    "colab": {
      "name": "SelfLearningChatbot.ipynb",
      "provenance": []
    },
    "kernelspec": {
      "name": "python3",
      "display_name": "Python 3"
    },
    "language_info": {
      "name": "python"
    }
  },
  "cells": [
    {
      "cell_type": "code",
      "metadata": {
        "colab": {
          "base_uri": "https://localhost:8080/"
        },
        "id": "TydS15lwj1aJ",
        "outputId": "c09b1b05-f4af-4a4d-9423-c0978102ba61"
      },
      "source": [
        "pip install nltk"
      ],
      "execution_count": 3,
      "outputs": [
        {
          "output_type": "stream",
          "name": "stdout",
          "text": [
            "Requirement already satisfied: nltk in /usr/local/lib/python3.7/dist-packages (3.2.5)\n",
            "Requirement already satisfied: six in /usr/local/lib/python3.7/dist-packages (from nltk) (1.15.0)\n"
          ]
        }
      ]
    },
    {
      "cell_type": "code",
      "metadata": {
        "colab": {
          "base_uri": "https://localhost:8080/"
        },
        "id": "TjFwm4-Oj8uJ",
        "outputId": "63ecce1c-79c8-4bb8-ef6c-06f07954a8c5"
      },
      "source": [
        "pip install newspaper3k"
      ],
      "execution_count": 2,
      "outputs": [
        {
          "output_type": "stream",
          "name": "stdout",
          "text": [
            "Collecting newspaper3k\n",
            "  Downloading newspaper3k-0.2.8-py3-none-any.whl (211 kB)\n",
            "\u001b[?25l\r\u001b[K     |█▌                              | 10 kB 18.2 MB/s eta 0:00:01\r\u001b[K     |███                             | 20 kB 18.6 MB/s eta 0:00:01\r\u001b[K     |████▋                           | 30 kB 11.7 MB/s eta 0:00:01\r\u001b[K     |██████▏                         | 40 kB 5.0 MB/s eta 0:00:01\r\u001b[K     |███████▊                        | 51 kB 4.8 MB/s eta 0:00:01\r\u001b[K     |█████████▎                      | 61 kB 5.6 MB/s eta 0:00:01\r\u001b[K     |██████████▉                     | 71 kB 6.2 MB/s eta 0:00:01\r\u001b[K     |████████████▍                   | 81 kB 5.8 MB/s eta 0:00:01\r\u001b[K     |██████████████                  | 92 kB 6.5 MB/s eta 0:00:01\r\u001b[K     |███████████████▌                | 102 kB 5.5 MB/s eta 0:00:01\r\u001b[K     |█████████████████               | 112 kB 5.5 MB/s eta 0:00:01\r\u001b[K     |██████████████████▋             | 122 kB 5.5 MB/s eta 0:00:01\r\u001b[K     |████████████████████▏           | 133 kB 5.5 MB/s eta 0:00:01\r\u001b[K     |█████████████████████▊          | 143 kB 5.5 MB/s eta 0:00:01\r\u001b[K     |███████████████████████▎        | 153 kB 5.5 MB/s eta 0:00:01\r\u001b[K     |████████████████████████▉       | 163 kB 5.5 MB/s eta 0:00:01\r\u001b[K     |██████████████████████████▍     | 174 kB 5.5 MB/s eta 0:00:01\r\u001b[K     |████████████████████████████    | 184 kB 5.5 MB/s eta 0:00:01\r\u001b[K     |█████████████████████████████▌  | 194 kB 5.5 MB/s eta 0:00:01\r\u001b[K     |███████████████████████████████ | 204 kB 5.5 MB/s eta 0:00:01\r\u001b[K     |████████████████████████████████| 211 kB 5.5 MB/s \n",
            "\u001b[?25hRequirement already satisfied: requests>=2.10.0 in /usr/local/lib/python3.7/dist-packages (from newspaper3k) (2.23.0)\n",
            "Collecting feedparser>=5.2.1\n",
            "  Downloading feedparser-6.0.8-py3-none-any.whl (81 kB)\n",
            "\u001b[K     |████████████████████████████████| 81 kB 7.8 MB/s \n",
            "\u001b[?25hCollecting tldextract>=2.0.1\n",
            "  Downloading tldextract-3.2.0-py3-none-any.whl (87 kB)\n",
            "\u001b[K     |████████████████████████████████| 87 kB 3.7 MB/s \n",
            "\u001b[?25hCollecting tinysegmenter==0.3\n",
            "  Downloading tinysegmenter-0.3.tar.gz (16 kB)\n",
            "Requirement already satisfied: nltk>=3.2.1 in /usr/local/lib/python3.7/dist-packages (from newspaper3k) (3.2.5)\n",
            "Collecting cssselect>=0.9.2\n",
            "  Downloading cssselect-1.1.0-py2.py3-none-any.whl (16 kB)\n",
            "Requirement already satisfied: python-dateutil>=2.5.3 in /usr/local/lib/python3.7/dist-packages (from newspaper3k) (2.8.2)\n",
            "Requirement already satisfied: PyYAML>=3.11 in /usr/local/lib/python3.7/dist-packages (from newspaper3k) (3.13)\n",
            "Requirement already satisfied: beautifulsoup4>=4.4.1 in /usr/local/lib/python3.7/dist-packages (from newspaper3k) (4.6.3)\n",
            "Collecting feedfinder2>=0.0.4\n",
            "  Downloading feedfinder2-0.0.4.tar.gz (3.3 kB)\n",
            "Requirement already satisfied: Pillow>=3.3.0 in /usr/local/lib/python3.7/dist-packages (from newspaper3k) (7.1.2)\n",
            "Requirement already satisfied: lxml>=3.6.0 in /usr/local/lib/python3.7/dist-packages (from newspaper3k) (4.2.6)\n",
            "Collecting jieba3k>=0.35.1\n",
            "  Downloading jieba3k-0.35.1.zip (7.4 MB)\n",
            "\u001b[K     |████████████████████████████████| 7.4 MB 44.0 MB/s \n",
            "\u001b[?25hRequirement already satisfied: six in /usr/local/lib/python3.7/dist-packages (from feedfinder2>=0.0.4->newspaper3k) (1.15.0)\n",
            "Collecting sgmllib3k\n",
            "  Downloading sgmllib3k-1.0.0.tar.gz (5.8 kB)\n",
            "Requirement already satisfied: urllib3!=1.25.0,!=1.25.1,<1.26,>=1.21.1 in /usr/local/lib/python3.7/dist-packages (from requests>=2.10.0->newspaper3k) (1.24.3)\n",
            "Requirement already satisfied: idna<3,>=2.5 in /usr/local/lib/python3.7/dist-packages (from requests>=2.10.0->newspaper3k) (2.10)\n",
            "Requirement already satisfied: chardet<4,>=3.0.2 in /usr/local/lib/python3.7/dist-packages (from requests>=2.10.0->newspaper3k) (3.0.4)\n",
            "Requirement already satisfied: certifi>=2017.4.17 in /usr/local/lib/python3.7/dist-packages (from requests>=2.10.0->newspaper3k) (2021.10.8)\n",
            "Collecting requests-file>=1.4\n",
            "  Downloading requests_file-1.5.1-py2.py3-none-any.whl (3.7 kB)\n",
            "Requirement already satisfied: filelock>=3.0.8 in /usr/local/lib/python3.7/dist-packages (from tldextract>=2.0.1->newspaper3k) (3.6.0)\n",
            "Building wheels for collected packages: tinysegmenter, feedfinder2, jieba3k, sgmllib3k\n",
            "  Building wheel for tinysegmenter (setup.py) ... \u001b[?25l\u001b[?25hdone\n",
            "  Created wheel for tinysegmenter: filename=tinysegmenter-0.3-py3-none-any.whl size=13553 sha256=f858094df2272ac971de7a4b00bb90e26abde44fedc8a2070d0a9690b6e1564f\n",
            "  Stored in directory: /root/.cache/pip/wheels/df/67/41/faca10fa501ca010be41b49d40360c2959e1c4f09bcbfa37fa\n",
            "  Building wheel for feedfinder2 (setup.py) ... \u001b[?25l\u001b[?25hdone\n",
            "  Created wheel for feedfinder2: filename=feedfinder2-0.0.4-py3-none-any.whl size=3357 sha256=b8d06baf11e7fcddba9eb3d8e6cc095bd08cb1e0124c0aa808a2ca75596f30b8\n",
            "  Stored in directory: /root/.cache/pip/wheels/7f/d4/8f/6e2ca54744c9d7292d88ddb8d42876bcdab5e6d84a21c10346\n",
            "  Building wheel for jieba3k (setup.py) ... \u001b[?25l\u001b[?25hdone\n",
            "  Created wheel for jieba3k: filename=jieba3k-0.35.1-py3-none-any.whl size=7398404 sha256=a838904e63c096b386baf3f1a812e88520e856e0c4e1cddc318f6c6ac991ea59\n",
            "  Stored in directory: /root/.cache/pip/wheels/4c/91/46/3c208287b726df325a5979574324878b679116e4baae1af3c3\n",
            "  Building wheel for sgmllib3k (setup.py) ... \u001b[?25l\u001b[?25hdone\n",
            "  Created wheel for sgmllib3k: filename=sgmllib3k-1.0.0-py3-none-any.whl size=6066 sha256=6e6aabe59e2e67860d670035a18fbe4b584b03f27e9adedd7b8147df79cd3da7\n",
            "  Stored in directory: /root/.cache/pip/wheels/73/ad/a4/0dff4a6ef231fc0dfa12ffbac2a36cebfdddfe059f50e019aa\n",
            "Successfully built tinysegmenter feedfinder2 jieba3k sgmllib3k\n",
            "Installing collected packages: sgmllib3k, requests-file, tldextract, tinysegmenter, jieba3k, feedparser, feedfinder2, cssselect, newspaper3k\n",
            "Successfully installed cssselect-1.1.0 feedfinder2-0.0.4 feedparser-6.0.8 jieba3k-0.35.1 newspaper3k-0.2.8 requests-file-1.5.1 sgmllib3k-1.0.0 tinysegmenter-0.3 tldextract-3.2.0\n"
          ]
        }
      ]
    },
    {
      "cell_type": "code",
      "metadata": {
        "id": "4msti9w3kIpi"
      },
      "source": [
        "from newspaper import Article\n",
        "import random\n",
        "import string\n",
        "import numpy as np\n",
        "import warnings\n",
        "import nltk\n",
        "from sklearn.feature_extraction.text import TfidfVectorizer\n",
        "from sklearn.metrics.pairwise import cosine_similarity"
      ],
      "execution_count": 4,
      "outputs": []
    },
    {
      "cell_type": "code",
      "metadata": {
        "id": "f6IDTwBzkKzS"
      },
      "source": [
        "#ignore the warnings\n",
        "warnings.filterwarnings('ignore')"
      ],
      "execution_count": 5,
      "outputs": []
    },
    {
      "cell_type": "code",
      "metadata": {
        "colab": {
          "base_uri": "https://localhost:8080/"
        },
        "id": "G-X_MEXHkPyO",
        "outputId": "7eec2803-a8b6-43a0-b6eb-69297075af83"
      },
      "source": [
        "#download package from nltk\n",
        "nltk.download('punkt',quiet=True)\n",
        "nltk.download('wordnet',quiet=True)"
      ],
      "execution_count": 6,
      "outputs": [
        {
          "output_type": "execute_result",
          "data": {
            "text/plain": [
              "True"
            ]
          },
          "metadata": {},
          "execution_count": 6
        }
      ]
    },
    {
      "cell_type": "code",
      "metadata": {
        "colab": {
          "base_uri": "https://localhost:8080/"
        },
        "id": "30QBlLwskTus",
        "outputId": "87332cc6-bc06-40af-ed52-c86eaa2fc7e5"
      },
      "source": [
        "#get artical url\n",
        "article= Article('https://sejalspeaks.blogspot.com/2020/05/7-reasons-why-music-is-important.html')\n",
        "article.download()\n",
        "article.parse()\n",
        "article.nlp()\n",
        "corpus=article.text\n",
        "#print\n",
        "print(corpus)"
      ],
      "execution_count": 7,
      "outputs": [
        {
          "output_type": "stream",
          "name": "stdout",
          "text": [
            "\n",
            "\n",
            "\n",
            "\n",
            "\n",
            "\n",
            "\n",
            "\n",
            "This world has millions of people speaks thousands of languages. The words are different, the letters are different, yet one common thing among them is music. Music rules the world inspite of the language used. We need not know the language to enjoy the song. The rhythm of the song goes straight to our hearts despite knowing the actual meaning of the words. Even before people started talking, they interacted with each other through sounds. Every single part of the nature is bounded with music. So there is no awe in claiming music as \"Universal Language\"!\n",
            "\n",
            "\n",
            "\n",
            "\n",
            "\n",
            "#2 Enhancing focus...\n",
            "\n",
            "\n",
            "\n",
            "\n",
            "\n",
            "\n",
            "\n",
            "\n",
            "\n",
            "A good music helps in the relaxation of mind and thereby increases your concentration. A good music in the sense, the right kind of music at the right time. Listening to music while doing homework or studying is very effective. Music reduces the distractions and improves the focus. It enhances the functioning of brain and leads to good memory. So the nursing homes nowadays are using \"Musical therapy\" for elderly people to improve their memory power.\n",
            "\n",
            "Homework+songs probably done by almost everybody without even knowing that it's actually the right method!\n",
            "\n",
            "\n",
            "\n",
            "\n",
            "\n",
            "#3 Understanding emotions...\n",
            "\n",
            "\n",
            "\n",
            "\n",
            "\n",
            "\n",
            "\n",
            "\n",
            "\n",
            "Music is the best thing to share our emotions with rather than people. The tune of the music you hear should match your emotion at that moment. If you feel sad, you must listen only a sad song. At that sad moment, if you listen to a happy song, it worsens your situation. It makes you feel much depressed. So while listening to a sad song at a depressed situation, you can relate yourself to the lyrics of the song and the singer with same emotions. This makes you feel much better.\n",
            "\n",
            "Music is the best companion whom you could feel!\n",
            "\n",
            "\n",
            "\n",
            "\n",
            "\n",
            "#4 Connecting souls...\n",
            "\n",
            "\n",
            "\n",
            "\n",
            "\n",
            "\n",
            "\n",
            "\n",
            "\n",
            "How many of you know that music has the magical power of connecting souls...? Sounds weird?! Yet it's true! The child in the mother's womb listens to every sound and movements around it. Hormonal changes and mood swings may affect the child. So listening to soft music during pregnancy keeps the child in the pink of health. Not only for mother and child... Let's just think of ourselves. I'm sure everyone would have thought about someone while listening to a particular song. Certain song and certain lyrics remind us of some special ones. That's the power of music. I assure everyone would have experienced this!\n",
            "\n",
            "\n",
            "\n",
            "\n",
            "\n",
            "#5 Mental health...\n",
            "\n",
            "\n",
            "\n",
            "\n",
            "\n",
            "\n",
            "\n",
            "\n",
            "\n",
            "\n",
            "\n",
            "\n",
            "\n",
            "Listening to music kindles multiple regions of brain leading to sound mental health. Recent researchers have proven that even a person who is unable to respond to any stimulations, can respond to music. Listening to your favourite songs increases the blood flow than while listening to other songs. This enhances your individuality and creativity.\n",
            "\n",
            "Are you depressed? No need of some pills or anything... Your headphones and your favourite song will heal you...!\n",
            "\n",
            "\n",
            "\n",
            "\n",
            "\n",
            "#6 Changing mood...\n",
            "\n",
            "\n",
            "\n",
            "\n",
            "\n",
            "\n",
            "\n",
            "\n",
            "\n",
            "In movies, why the background score plays a vital role? It's because music can greatly contribute in changing your mood. Suppose you are watching a melodrama which has a mixture of emotions like tragedy, comedy, romance and many more. In the respective scenes your brain needs to adapt to that particular emotion. That is where the background music has it's role. Your brain changes it's mood according to the music played and the scene becomes more effective.\n",
            "\n",
            "Have you ever felt the satisfaction when you hear a particular part of a song, which is your favourite, and so you play it on repeat mode?! That's because when you hear your favourite music, the neurotransmitter dopamine is released which causes you the feeling of satisfaction.\n",
            "\n",
            "\n",
            "\n",
            "\n",
            "\n",
            "#7 The magical pleasure...\n",
            "\n",
            "\n",
            "\n",
            "\n",
            "\n",
            "\n",
            "\n",
            "\n",
            "\n",
            "Sleepless night under a canopy of stars with your headphones plugged in, playing your favourite album... Isn't that a magical feel?! If you say no, then you haven't lived your best moment yet. Even if this feels unreal to you, you can't just avoid music from your life. You can't deny the pleasure you get when you dance with your friends to a disco song at a party.\n",
            "\n",
            "\n",
            "\n",
            "\n",
            "\n",
            "Music has become an integral part of our lives to share our feelings with. I have always been a music lover. I have many songs related to every part of my life. So while hearing a particular song, I relive the moments again! Hope you could also relate this...\n",
            "\n",
            "\n",
            "\n",
            "\n",
            "\n",
            "Thanks for taking your time to read this.\n",
            "\n",
            "\n",
            "\n",
            "\n",
            "\n",
            "Lots of love ♥️,\n",
            "\n",
            "Sejal.\n",
            "\n",
            "#1 One universe, One music...\n"
          ]
        }
      ]
    },
    {
      "cell_type": "code",
      "metadata": {
        "colab": {
          "base_uri": "https://localhost:8080/"
        },
        "id": "40lhFfukkgLr",
        "outputId": "6414ac0b-80bc-48b5-fcc2-1f1f8d7c1b5e"
      },
      "source": [
        "#tokenization\n",
        "text=corpus\n",
        "sent_tokens=nltk.sent_tokenize(text)\n",
        "print(sent_tokens)"
      ],
      "execution_count": 8,
      "outputs": [
        {
          "output_type": "stream",
          "name": "stdout",
          "text": [
            "['\\n\\n\\n\\n\\n\\n\\n\\nThis world has millions of people speaks thousands of languages.', 'The words are different, the letters are different, yet one common thing among them is music.', 'Music rules the world inspite of the language used.', 'We need not know the language to enjoy the song.', 'The rhythm of the song goes straight to our hearts despite knowing the actual meaning of the words.', 'Even before people started talking, they interacted with each other through sounds.', 'Every single part of the nature is bounded with music.', 'So there is no awe in claiming music as \"Universal Language\"!', '#2 Enhancing focus...\\n\\n\\n\\n\\n\\n\\n\\n\\n\\nA good music helps in the relaxation of mind and thereby increases your concentration.', 'A good music in the sense, the right kind of music at the right time.', 'Listening to music while doing homework or studying is very effective.', 'Music reduces the distractions and improves the focus.', 'It enhances the functioning of brain and leads to good memory.', 'So the nursing homes nowadays are using \"Musical therapy\" for elderly people to improve their memory power.', \"Homework+songs probably done by almost everybody without even knowing that it's actually the right method!\", '#3 Understanding emotions...\\n\\n\\n\\n\\n\\n\\n\\n\\n\\nMusic is the best thing to share our emotions with rather than people.', 'The tune of the music you hear should match your emotion at that moment.', 'If you feel sad, you must listen only a sad song.', 'At that sad moment, if you listen to a happy song, it worsens your situation.', 'It makes you feel much depressed.', 'So while listening to a sad song at a depressed situation, you can relate yourself to the lyrics of the song and the singer with same emotions.', 'This makes you feel much better.', 'Music is the best companion whom you could feel!', '#4 Connecting souls...\\n\\n\\n\\n\\n\\n\\n\\n\\n\\nHow many of you know that music has the magical power of connecting souls...?', 'Sounds weird?!', \"Yet it's true!\", \"The child in the mother's womb listens to every sound and movements around it.\", 'Hormonal changes and mood swings may affect the child.', 'So listening to soft music during pregnancy keeps the child in the pink of health.', \"Not only for mother and child... Let's just think of ourselves.\", \"I'm sure everyone would have thought about someone while listening to a particular song.\", 'Certain song and certain lyrics remind us of some special ones.', \"That's the power of music.\", 'I assure everyone would have experienced this!', '#5 Mental health...', 'Listening to music kindles multiple regions of brain leading to sound mental health.', 'Recent researchers have proven that even a person who is unable to respond to any stimulations, can respond to music.', 'Listening to your favourite songs increases the blood flow than while listening to other songs.', 'This enhances your individuality and creativity.', 'Are you depressed?', 'No need of some pills or anything...', 'Your headphones and your favourite song will heal you...!', '#6 Changing mood...', 'In movies, why the background score plays a vital role?', \"It's because music can greatly contribute in changing your mood.\", 'Suppose you are watching a melodrama which has a mixture of emotions like tragedy, comedy, romance and many more.', 'In the respective scenes your brain needs to adapt to that particular emotion.', \"That is where the background music has it's role.\", \"Your brain changes it's mood according to the music played and the scene becomes more effective.\", 'Have you ever felt the satisfaction when you hear a particular part of a song, which is your favourite, and so you play it on repeat mode?!', \"That's because when you hear your favourite music, the neurotransmitter dopamine is released which causes you the feeling of satisfaction.\", '#7 The magical pleasure...\\n\\n\\n\\n\\n\\n\\n\\n\\n\\nSleepless night under a canopy of stars with your headphones plugged in, playing your favourite album...', \"Isn't that a magical feel?!\", \"If you say no, then you haven't lived your best moment yet.\", \"Even if this feels unreal to you, you can't just avoid music from your life.\", \"You can't deny the pleasure you get when you dance with your friends to a disco song at a party.\", 'Music has become an integral part of our lives to share our feelings with.', 'I have always been a music lover.', 'I have many songs related to every part of my life.', 'So while hearing a particular song, I relive the moments again!', 'Hope you could also relate this...', 'Thanks for taking your time to read this.', 'Lots of love ♥️,\\n\\nSejal.', '#1 One universe, One music...']\n"
          ]
        }
      ]
    },
    {
      "cell_type": "code",
      "metadata": {
        "colab": {
          "base_uri": "https://localhost:8080/"
        },
        "id": "rKNUPcJSkmXN",
        "outputId": "f84f817e-5d82-4b1c-f801-ea7a1ff2b2ee"
      },
      "source": [
        "#creating a dictionary to remove the punctuation\n",
        "remove_punct_dict=dict( (ord(punct),None) for punct in string.punctuation)\n",
        "print(string.punctuation)\n",
        "print(remove_punct_dict)"
      ],
      "execution_count": 9,
      "outputs": [
        {
          "output_type": "stream",
          "name": "stdout",
          "text": [
            "!\"#$%&'()*+,-./:;<=>?@[\\]^_`{|}~\n",
            "{33: None, 34: None, 35: None, 36: None, 37: None, 38: None, 39: None, 40: None, 41: None, 42: None, 43: None, 44: None, 45: None, 46: None, 47: None, 58: None, 59: None, 60: None, 61: None, 62: None, 63: None, 64: None, 91: None, 92: None, 93: None, 94: None, 95: None, 96: None, 123: None, 124: None, 125: None, 126: None}\n"
          ]
        }
      ]
    },
    {
      "cell_type": "code",
      "metadata": {
        "colab": {
          "base_uri": "https://localhost:8080/"
        },
        "id": "5HXqOf9YktNZ",
        "outputId": "34151592-e8cf-43cc-dc59-0a6a2566e903"
      },
      "source": [
        "#create a function to return lower case words \n",
        "def LemNormalize(text):\n",
        "  return nltk.word_tokenize(text.lower().translate(remove_punct_dict))\n",
        "print(LemNormalize(text))"
      ],
      "execution_count": 10,
      "outputs": [
        {
          "output_type": "stream",
          "name": "stdout",
          "text": [
            "['this', 'world', 'has', 'millions', 'of', 'people', 'speaks', 'thousands', 'of', 'languages', 'the', 'words', 'are', 'different', 'the', 'letters', 'are', 'different', 'yet', 'one', 'common', 'thing', 'among', 'them', 'is', 'music', 'music', 'rules', 'the', 'world', 'inspite', 'of', 'the', 'language', 'used', 'we', 'need', 'not', 'know', 'the', 'language', 'to', 'enjoy', 'the', 'song', 'the', 'rhythm', 'of', 'the', 'song', 'goes', 'straight', 'to', 'our', 'hearts', 'despite', 'knowing', 'the', 'actual', 'meaning', 'of', 'the', 'words', 'even', 'before', 'people', 'started', 'talking', 'they', 'interacted', 'with', 'each', 'other', 'through', 'sounds', 'every', 'single', 'part', 'of', 'the', 'nature', 'is', 'bounded', 'with', 'music', 'so', 'there', 'is', 'no', 'awe', 'in', 'claiming', 'music', 'as', 'universal', 'language', '2', 'enhancing', 'focus', 'a', 'good', 'music', 'helps', 'in', 'the', 'relaxation', 'of', 'mind', 'and', 'thereby', 'increases', 'your', 'concentration', 'a', 'good', 'music', 'in', 'the', 'sense', 'the', 'right', 'kind', 'of', 'music', 'at', 'the', 'right', 'time', 'listening', 'to', 'music', 'while', 'doing', 'homework', 'or', 'studying', 'is', 'very', 'effective', 'music', 'reduces', 'the', 'distractions', 'and', 'improves', 'the', 'focus', 'it', 'enhances', 'the', 'functioning', 'of', 'brain', 'and', 'leads', 'to', 'good', 'memory', 'so', 'the', 'nursing', 'homes', 'nowadays', 'are', 'using', 'musical', 'therapy', 'for', 'elderly', 'people', 'to', 'improve', 'their', 'memory', 'power', 'homeworksongs', 'probably', 'done', 'by', 'almost', 'everybody', 'without', 'even', 'knowing', 'that', 'its', 'actually', 'the', 'right', 'method', '3', 'understanding', 'emotions', 'music', 'is', 'the', 'best', 'thing', 'to', 'share', 'our', 'emotions', 'with', 'rather', 'than', 'people', 'the', 'tune', 'of', 'the', 'music', 'you', 'hear', 'should', 'match', 'your', 'emotion', 'at', 'that', 'moment', 'if', 'you', 'feel', 'sad', 'you', 'must', 'listen', 'only', 'a', 'sad', 'song', 'at', 'that', 'sad', 'moment', 'if', 'you', 'listen', 'to', 'a', 'happy', 'song', 'it', 'worsens', 'your', 'situation', 'it', 'makes', 'you', 'feel', 'much', 'depressed', 'so', 'while', 'listening', 'to', 'a', 'sad', 'song', 'at', 'a', 'depressed', 'situation', 'you', 'can', 'relate', 'yourself', 'to', 'the', 'lyrics', 'of', 'the', 'song', 'and', 'the', 'singer', 'with', 'same', 'emotions', 'this', 'makes', 'you', 'feel', 'much', 'better', 'music', 'is', 'the', 'best', 'companion', 'whom', 'you', 'could', 'feel', '4', 'connecting', 'souls', 'how', 'many', 'of', 'you', 'know', 'that', 'music', 'has', 'the', 'magical', 'power', 'of', 'connecting', 'souls', 'sounds', 'weird', 'yet', 'its', 'true', 'the', 'child', 'in', 'the', 'mothers', 'womb', 'listens', 'to', 'every', 'sound', 'and', 'movements', 'around', 'it', 'hormonal', 'changes', 'and', 'mood', 'swings', 'may', 'affect', 'the', 'child', 'so', 'listening', 'to', 'soft', 'music', 'during', 'pregnancy', 'keeps', 'the', 'child', 'in', 'the', 'pink', 'of', 'health', 'not', 'only', 'for', 'mother', 'and', 'child', 'lets', 'just', 'think', 'of', 'ourselves', 'im', 'sure', 'everyone', 'would', 'have', 'thought', 'about', 'someone', 'while', 'listening', 'to', 'a', 'particular', 'song', 'certain', 'song', 'and', 'certain', 'lyrics', 'remind', 'us', 'of', 'some', 'special', 'ones', 'thats', 'the', 'power', 'of', 'music', 'i', 'assure', 'everyone', 'would', 'have', 'experienced', 'this', '5', 'mental', 'health', 'listening', 'to', 'music', 'kindles', 'multiple', 'regions', 'of', 'brain', 'leading', 'to', 'sound', 'mental', 'health', 'recent', 'researchers', 'have', 'proven', 'that', 'even', 'a', 'person', 'who', 'is', 'unable', 'to', 'respond', 'to', 'any', 'stimulations', 'can', 'respond', 'to', 'music', 'listening', 'to', 'your', 'favourite', 'songs', 'increases', 'the', 'blood', 'flow', 'than', 'while', 'listening', 'to', 'other', 'songs', 'this', 'enhances', 'your', 'individuality', 'and', 'creativity', 'are', 'you', 'depressed', 'no', 'need', 'of', 'some', 'pills', 'or', 'anything', 'your', 'headphones', 'and', 'your', 'favourite', 'song', 'will', 'heal', 'you', '6', 'changing', 'mood', 'in', 'movies', 'why', 'the', 'background', 'score', 'plays', 'a', 'vital', 'role', 'its', 'because', 'music', 'can', 'greatly', 'contribute', 'in', 'changing', 'your', 'mood', 'suppose', 'you', 'are', 'watching', 'a', 'melodrama', 'which', 'has', 'a', 'mixture', 'of', 'emotions', 'like', 'tragedy', 'comedy', 'romance', 'and', 'many', 'more', 'in', 'the', 'respective', 'scenes', 'your', 'brain', 'needs', 'to', 'adapt', 'to', 'that', 'particular', 'emotion', 'that', 'is', 'where', 'the', 'background', 'music', 'has', 'its', 'role', 'your', 'brain', 'changes', 'its', 'mood', 'according', 'to', 'the', 'music', 'played', 'and', 'the', 'scene', 'becomes', 'more', 'effective', 'have', 'you', 'ever', 'felt', 'the', 'satisfaction', 'when', 'you', 'hear', 'a', 'particular', 'part', 'of', 'a', 'song', 'which', 'is', 'your', 'favourite', 'and', 'so', 'you', 'play', 'it', 'on', 'repeat', 'mode', 'thats', 'because', 'when', 'you', 'hear', 'your', 'favourite', 'music', 'the', 'neurotransmitter', 'dopamine', 'is', 'released', 'which', 'causes', 'you', 'the', 'feeling', 'of', 'satisfaction', '7', 'the', 'magical', 'pleasure', 'sleepless', 'night', 'under', 'a', 'canopy', 'of', 'stars', 'with', 'your', 'headphones', 'plugged', 'in', 'playing', 'your', 'favourite', 'album', 'isnt', 'that', 'a', 'magical', 'feel', 'if', 'you', 'say', 'no', 'then', 'you', 'havent', 'lived', 'your', 'best', 'moment', 'yet', 'even', 'if', 'this', 'feels', 'unreal', 'to', 'you', 'you', 'cant', 'just', 'avoid', 'music', 'from', 'your', 'life', 'you', 'cant', 'deny', 'the', 'pleasure', 'you', 'get', 'when', 'you', 'dance', 'with', 'your', 'friends', 'to', 'a', 'disco', 'song', 'at', 'a', 'party', 'music', 'has', 'become', 'an', 'integral', 'part', 'of', 'our', 'lives', 'to', 'share', 'our', 'feelings', 'with', 'i', 'have', 'always', 'been', 'a', 'music', 'lover', 'i', 'have', 'many', 'songs', 'related', 'to', 'every', 'part', 'of', 'my', 'life', 'so', 'while', 'hearing', 'a', 'particular', 'song', 'i', 'relive', 'the', 'moments', 'again', 'hope', 'you', 'could', 'also', 'relate', 'this', 'thanks', 'for', 'taking', 'your', 'time', 'to', 'read', 'this', 'lots', 'of', 'love', '♥️', 'sejal', '1', 'one', 'universe', 'one', 'music']\n"
          ]
        }
      ]
    },
    {
      "cell_type": "code",
      "metadata": {
        "id": "9R2ebgVEkxc8"
      },
      "source": [
        "#keywords for greetings\n",
        "greeting_input=[\"hi\",\"hello\",\"hey\",\"hola\"]\n",
        "greeting_response=[\"howdy\",\"hey there\",\"hi\",\"hello :)\"]\n",
        "def greeting(sentence):\n",
        "  for word in sentence.split():\n",
        "    if word.lower() in greeting_input:\n",
        "      return random.choice(greeting_response)"
      ],
      "execution_count": 11,
      "outputs": []
    },
    {
      "cell_type": "code",
      "metadata": {
        "id": "X80Cwabhk1tk"
      },
      "source": [
        "\n",
        "def response(user_response):\n",
        " #user response and robo responce\n",
        "  user_response=user_response.lower()\n",
        "  #print(user_response)\n",
        "  #robo response\n",
        "  robo_response=''\n",
        "  sent_tokens.append(user_response)\n",
        "  #print(sent_tokens)\n",
        "  tfidfvec=TfidfVectorizer(tokenizer=LemNormalize , stop_words='english')\n",
        "  tfidf=tfidfvec.fit_transform(sent_tokens)\n",
        "  #print(tfidf)\n",
        "  #get similarity score\n",
        "  val=cosine_similarity(tfidf[-1],tfidf)\n",
        "  #print(val)\n",
        "  idx=val.argsort()[0][-2]\n",
        "  flat=val.flatten()\n",
        "  flat.sort()\n",
        "  score=flat[-2]\n",
        "  #print(score)\n",
        "  if score==0:\n",
        "    robo_response=robo_response+\"sorry,i dont understand\"\n",
        "  else:\n",
        "    robo_response=robo_response+sent_tokens[idx]\n",
        "\n",
        "  sent_tokens.remove(user_response)\n",
        "  return robo_response"
      ],
      "execution_count": 12,
      "outputs": []
    },
    {
      "cell_type": "code",
      "metadata": {
        "colab": {
          "base_uri": "https://localhost:8080/"
        },
        "id": "EZnY2UYUk92i",
        "outputId": "4a8f2187-c28c-4449-ab9e-84454fd89d57"
      },
      "source": [
        "greeting_input=[\"hi\",\"hello\",\"hey\",\"hola\"]\n",
        "greeting_response=[\"howdy\",\"hey there\",\"hi\",\"hello :)\"]\n",
        "def greeting(sentence):\n",
        "  for word in sentence.split():\n",
        "    if word.lower() in greeting_input:\n",
        "      return random.choice(greeting_response)\n",
        "flag=True\n",
        "print(\"hello!!! this is madmax,i can answer your queris related to light ,type bye to exit\")\n",
        "while(flag==True):\n",
        "  user_response=input(\"cherry:\")\n",
        "  #user_response=user_response.lower()\n",
        "  if(user_response!='bye'):\n",
        "    if(user_response=='thanks' or user_response=='thank you'):\n",
        "      flag=False\n",
        "      print(\"madmax: anytime :)\")\n",
        "    else:\n",
        "       if( greeting(user_response) != None):\n",
        "         print(\"madmax: \"+ greeting(user_response))\n",
        "       else:\n",
        "         print(\"madmax:\"+response(user_response))\n",
        "  else:\n",
        "    flag=False\n",
        "    print(\"madmax: see you later :)\")"
      ],
      "execution_count": 13,
      "outputs": [
        {
          "output_type": "stream",
          "name": "stdout",
          "text": [
            "hello!!! this is madmax,i can answer your queris related to light ,type bye to exit\n",
            "cherry:hii\n",
            "madmax:sorry,i dont understand\n",
            "cherry:how many languages are there\n",
            "madmax:\n",
            "\n",
            "\n",
            "\n",
            "\n",
            "\n",
            "\n",
            "\n",
            "This world has millions of people speaks thousands of languages.\n",
            "cherry:bye\n",
            "madmax: see you later :)\n"
          ]
        }
      ]
    }
  ]
}